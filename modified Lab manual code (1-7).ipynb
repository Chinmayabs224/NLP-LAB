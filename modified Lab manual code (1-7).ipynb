{
 "cells": [
  {
   "cell_type": "markdown",
   "id": "41c0f3d2-f700-4a75-a43a-35943d1aca9d",
   "metadata": {},
   "source": [
    "1a) Pre-processing: Tokenization, Stop Word Removal, and Stemming"
   ]
  },
  {
   "cell_type": "code",
   "execution_count": 1,
   "id": "02fbad40-1596-4175-80fb-b0ff01e9c5c2",
   "metadata": {},
   "outputs": [
    {
     "name": "stdout",
     "output_type": "stream",
     "text": [
      "['there man hill , i watch telescop .']\n"
     ]
    }
   ],
   "source": [
    "import nltk\n",
    "from nltk.stem import PorterStemmer\n",
    "from nltk.corpus import stopwords\n",
    "example = \"\"\"There is a man on the hill, and I watched him with my telescope.\"\"\"\n",
    "stemmer = PorterStemmer()\n",
    "sentences = [' '.join(stemmer.stem(w) for w in nltk.word_tokenize(s) if w not in stopwords.words('english')) for s in nltk.sent_tokenize(example)]\n",
    "print(sentences)\n"
   ]
  },
  {
   "cell_type": "markdown",
   "id": "e3a82538",
   "metadata": {},
   "source": [
    "1b) Comparison of Text-Splitting Techniques"
   ]
  },
  {
   "cell_type": "code",
   "execution_count": 2,
   "id": "b4add68d",
   "metadata": {},
   "outputs": [
    {
     "name": "stdout",
     "output_type": "stream",
     "text": [
      "['There', 'is', 'a', 'man', 'on', 'the', 'hill', ',', 'and', 'I', 'watched', 'him', 'with', 'my', 'telescope', '.'] ['There', 'is', 'a', 'man', 'on', 'the', 'hill,', 'and', 'I', 'watched', 'him', 'with', 'my', 'telescope.'] ['There', 'is', 'a', 'man', 'on', 'the', 'hill', 'and', 'I', 'watched', 'him', 'with', 'my', 'telescope', '']\n"
     ]
    }
   ],
   "source": [
    "import nltk, re\n",
    "text = \"There is a man on the hill, and I watched him with my telescope.\"\n",
    "print(nltk.word_tokenize(text), text.split(), re.split(r'\\W+', text))\n"
   ]
  },
  {
   "cell_type": "markdown",
   "id": "69eb4100",
   "metadata": {},
   "source": [
    "2a) POS Tagging and Parse Tree Drawing"
   ]
  },
  {
   "cell_type": "code",
   "execution_count": 3,
   "id": "2119f94a",
   "metadata": {},
   "outputs": [
    {
     "name": "stdout",
     "output_type": "stream",
     "text": [
      "[('There', 'EX'), ('is', 'VBZ'), ('a', 'DT'), ('man', 'NN'), ('on', 'IN'), ('the', 'DT'), ('hill', 'NN'), (',', ','), ('and', 'CC'), ('I', 'PRP'), ('watched', 'VBD'), ('him', 'PRP'), ('with', 'IN'), ('my', 'PRP$'), ('telescope', 'NN'), ('.', '.')]\n"
     ]
    }
   ],
   "source": [
    "import nltk\n",
    "text = \"There is a man on the hill, and I watched him with my telescope.\"\n",
    "tokens = nltk.word_tokenize(text)\n",
    "tags = nltk.pos_tag(tokens)\n",
    "parsed = nltk.RegexpParser(\"NP: {<DT>?<JJ>*<NN>}\").parse(tags)\n",
    "print(tags)\n",
    "parsed.draw()\n"
   ]
  },
  {
   "cell_type": "markdown",
   "id": "047c39de",
   "metadata": {},
   "source": [
    "2b) Most Frequent Words and Plot"
   ]
  },
  {
   "cell_type": "code",
   "execution_count": 7,
   "id": "9fa565c6",
   "metadata": {},
   "outputs": [
    {
     "data": {
      "text/plain": [
       "<Axes: xlabel='Samples', ylabel='Counts'>"
      ]
     },
     "execution_count": 7,
     "metadata": {},
     "output_type": "execute_result"
    },
    {
     "data": {
      "image/png": "[encoded data removed]",
      "text/plain": [
       "<Figure size 640x480 with 1 Axes>"
      ]
     },
     "metadata": {},
     "output_type": "display_data"
    }
   ],
   "source": [
    "import nltk\n",
    "from nltk import word_tokenize, FreqDist\n",
    "import matplotlib.pyplot as plt\n",
    "text = \"There is a man on the hill,  is I watched him and him with my telescope.\"\n",
    "fdist = FreqDist(word_tokenize(text))\n",
    "fdist.plot(10)\n"
   ]
  },
  {
   "cell_type": "markdown",
   "id": "457e6b2b",
   "metadata": {},
   "source": [
    "3a) N-Gram Model Excluding Stop Words\n",
    "\n"
   ]
  },
  {
   "cell_type": "code",
   "execution_count": 13,
   "id": "baf5cd39",
   "metadata": {},
   "outputs": [
    {
     "name": "stdout",
     "output_type": "stream",
     "text": [
      "['The sun', 'sun rises', 'rises east']\n"
     ]
    }
   ],
   "source": [
    "import nltk\n",
    "from nltk.corpus import stopwords\n",
    "def n_grams(text, n=1):\n",
    "    words = [w for w in text.split() if w not in stopwords.words('english')]\n",
    "    return [' '.join(words[i:i+n]) for i in range(len(words)-n+1)]\n",
    "print(n_grams(\"The sun rises in the east\", 2))\n"
   ]
  },
  {
   "cell_type": "markdown",
   "id": "7a51c2cc",
   "metadata": {},
   "source": [
    "3b) POS Tagging Using Averaged Perceptron"
   ]
  },
  {
   "cell_type": "code",
   "execution_count": 15,
   "id": "536a55a4",
   "metadata": {},
   "outputs": [
    {
     "name": "stderr",
     "output_type": "stream",
     "text": [
      "[nltk_data] Downloading package punkt to\n",
      "[nltk_data]     C:\\Users\\ASUS\\AppData\\Roaming\\nltk_data...\n",
      "[nltk_data]   Package punkt is already up-to-date!\n",
      "[nltk_data] Downloading package averaged_perceptron_tagger to\n",
      "[nltk_data]     C:\\Users\\ASUS\\AppData\\Roaming\\nltk_data...\n",
      "[nltk_data]   Package averaged_perceptron_tagger is already up-to-\n",
      "[nltk_data]       date!\n",
      "[nltk_data] Downloading package universal_tagset to\n",
      "[nltk_data]     C:\\Users\\ASUS\\AppData\\Roaming\\nltk_data...\n"
     ]
    },
    {
     "name": "stdout",
     "output_type": "stream",
     "text": [
      "[('I', 'PRON'), ('am', 'VERB'), ('learning', 'VERB'), ('NLP', 'NOUN'), ('in', 'ADP'), ('Python', 'NOUN')]\n"
     ]
    },
    {
     "name": "stderr",
     "output_type": "stream",
     "text": [
      "[nltk_data]   Unzipping taggers\\universal_tagset.zip.\n"
     ]
    }
   ],
   "source": [
    "import nltk\n",
    "\n",
    "# Download necessary NLTK data\n",
    "nltk.download('punkt')\n",
    "nltk.download('averaged_perceptron_tagger')\n",
    "nltk.download('universal_tagset')\n",
    "\n",
    "tokens = nltk.word_tokenize(\"I am learning NLP in Python\")\n",
    "print(nltk.pos_tag(tokens, tagset='universal'))"
   ]
  },
  {
   "cell_type": "markdown",
   "id": "6961263c",
   "metadata": {},
   "source": [
    "Experiment 4 (a)"
   ]
  },
  {
   "cell_type": "code",
   "execution_count": 2,
   "id": "442589dc",
   "metadata": {},
   "outputs": [
    {
     "name": "stderr",
     "output_type": "stream",
     "text": [
      "[nltk_data] Downloading package punkt to\n",
      "[nltk_data]     C:\\Users\\ASUS\\AppData\\Roaming\\nltk_data...\n",
      "[nltk_data]   Package punkt is already up-to-date!\n",
      "[nltk_data] Downloading package wordnet to\n",
      "[nltk_data]     C:\\Users\\ASUS\\AppData\\Roaming\\nltk_data...\n",
      "[nltk_data]   Package wordnet is already up-to-date!\n",
      "[nltk_data] Downloading package averaged_perceptron_tagger to\n",
      "[nltk_data]     C:\\Users\\ASUS\\AppData\\Roaming\\nltk_data...\n",
      "[nltk_data]   Package averaged_perceptron_tagger is already up-to-\n",
      "[nltk_data]       date!\n"
     ]
    },
    {
     "name": "stdout",
     "output_type": "stream",
     "text": [
      "['Artificial', 'intelligence', 'have', 'make', 'significant', 'advancement', ',', 'but', 'it', 'still', 'struggle', 'to', 'understand', 'human', 'emotion', 'and', 'context', ',', 'limit', 'it', 'ability', 'to', 'interact', 'naturally', '.']\n",
      "Lemmatized Text: Artificial intelligence have make significant advancement , but it still struggle to understand human emotion and context , limit it ability to interact naturally .\n"
     ]
    }
   ],
   "source": [
    "import nltk\n",
    "from nltk.corpus import wordnet, stopwords\n",
    "from nltk.stem import WordNetLemmatizer\n",
    "from nltk.tokenize import word_tokenize\n",
    "import string\n",
    "\n",
    "# Download necessary resources\n",
    "nltk.download('punkt')\n",
    "nltk.download('wordnet')\n",
    "nltk.download('averaged_perceptron_tagger')\n",
    "\n",
    "text = \"Artificial intelligence has made significant advancements, but it still struggles to understand human emotions and context, limiting its ability to interact naturally.\"\n",
    "\n",
    "def get_wordnet_pos(tag):\n",
    "    return {'J': wordnet.ADJ, 'V': wordnet.VERB, 'N': wordnet.NOUN, 'R': wordnet.ADV}.get(tag[0], wordnet.NOUN)\n",
    "\n",
    "tokens = word_tokenize(text)\n",
    "lemmatizer = WordNetLemmatizer()\n",
    "pos_tags = nltk.pos_tag(tokens)\n",
    "lemmatized = [lemmatizer.lemmatize(word, get_wordnet_pos(tag)) for word, tag in pos_tags]\n",
    "print(lemmatized)\n",
    "\n",
    "print(\"Lemmatized Text:\", \" \".join(lemmatized))"
   ]
  },
  {
   "cell_type": "markdown",
   "id": "c5f3525f",
   "metadata": {},
   "source": [
    "Experiment 4 (b)"
   ]
  },
  {
   "cell_type": "code",
   "execution_count": 3,
   "id": "289292d8",
   "metadata": {},
   "outputs": [
    {
     "data": {
      "text/plain": [
       "<Axes: xlabel='Samples', ylabel='Counts'>"
      ]
     },
     "execution_count": 3,
     "metadata": {},
     "output_type": "execute_result"
    },
    {
     "data": {
      "image/png": "[encoded data removed]",
      "text/plain": [
       "<Figure size 640x480 with 1 Axes>"
      ]
     },
     "metadata": {},
     "output_type": "display_data"
    }
   ],
   "source": [
    "from nltk import word_tokenize, FreqDist\n",
    "from nltk.corpus import stopwords\n",
    "import string\n",
    "import matplotlib.pyplot as plt\n",
    "\n",
    "text = \"There is a man on the hill, and I watched him with my telescope. There is a man on the hill, and he has a telescope. I’m on a hill, and I saw a man using my telescope.\"\n",
    "words = [w.lower() for w in word_tokenize(text) if w.isalpha() and w.lower() not in stopwords.words('english')]\n",
    "FreqDist(words).plot(10)\n"
   ]
  },
  {
   "cell_type": "markdown",
   "id": "b02d6409",
   "metadata": {},
   "source": [
    "Experiment 5 (a)"
   ]
  },
  {
   "cell_type": "code",
   "execution_count": 4,
   "id": "5bb83bbb",
   "metadata": {},
   "outputs": [
    {
     "name": "stdout",
     "output_type": "stream",
     "text": [
      "Porter: ['morpholog', 'analysi', 'is', 'import', 'for', 'natur', 'languag', 'process', '.'] \n",
      "Lancaster: ['morpholog', 'analys', 'is', 'import', 'for', 'nat', 'langu', 'process', '.'] \n",
      "Snowball: ['morpholog', 'analysi', 'is', 'import', 'for', 'natur', 'languag', 'process', '.'] \n",
      "Lemmas: ['Morphological', 'analysis', 'is', 'important', 'for', 'natural', 'language', 'processing', '.']\n"
     ]
    }
   ],
   "source": [
    "from nltk import word_tokenize\n",
    "from nltk.stem import PorterStemmer, LancasterStemmer, SnowballStemmer, WordNetLemmatizer\n",
    "\n",
    "sentence = \"Morphological analysis is important for natural language processing.\"\n",
    "words = word_tokenize(sentence)\n",
    "stems = lambda stemmer: [stemmer.stem(w) for w in words]\n",
    "lemmas = [WordNetLemmatizer().lemmatize(w) for w in words]\n",
    "\n",
    "print(\"Porter:\", stems(PorterStemmer()), \"\\nLancaster:\", stems(LancasterStemmer()), \"\\nSnowball:\", stems(SnowballStemmer('english')), \"\\nLemmas:\", lemmas)\n"
   ]
  },
  {
   "cell_type": "code",
   "execution_count": null,
   "id": "0cd9d70b",
   "metadata": {},
   "outputs": [],
   "source": [
    "pip install spacy"
   ]
  },
  {
   "cell_type": "markdown",
   "id": "93463f55",
   "metadata": {},
   "source": [
    "Experiment 5 (b)"
   ]
  },
  {
   "cell_type": "code",
   "execution_count": 5,
   "id": "3d30b03b",
   "metadata": {},
   "outputs": [
    {
     "ename": "ModuleNotFoundError",
     "evalue": "No module named 'spacy'",
     "output_type": "error",
     "traceback": [
      "\u001b[1;31m---------------------------------------------------------------------------\u001b[0m",
      "\u001b[1;31mModuleNotFoundError\u001b[0m                       Traceback (most recent call last)",
      "Cell \u001b[1;32mIn[5], line 1\u001b[0m\n\u001b[1;32m----> 1\u001b[0m \u001b[38;5;28;01mimport\u001b[39;00m \u001b[38;5;21;01mspacy\u001b[39;00m\n\u001b[0;32m      2\u001b[0m nlp \u001b[38;5;241m=\u001b[39m spacy\u001b[38;5;241m.\u001b[39mload(\u001b[38;5;124m\"\u001b[39m\u001b[38;5;124men_core_web_sm\u001b[39m\u001b[38;5;124m\"\u001b[39m)\n\u001b[0;32m      4\u001b[0m \u001b[38;5;28;01mfor\u001b[39;00m t \u001b[38;5;129;01min\u001b[39;00m nlp(\u001b[38;5;124m\"\u001b[39m\u001b[38;5;124mThe quick brown fox jumps over the lazy dog.\u001b[39m\u001b[38;5;124m\"\u001b[39m):\n",
      "\u001b[1;31mModuleNotFoundError\u001b[0m: No module named 'spacy'"
     ]
    }
   ],
   "source": [
    "import spacy\n",
    "nlp = spacy.load(\"en_core_web_sm\")\n",
    "\n",
    "for t in nlp(\"The quick brown fox jumps over the lazy dog.\"):\n",
    "    print(t.text, t.dep_, t.head.text)\n"
   ]
  },
  {
   "cell_type": "markdown",
   "id": "7b47d887",
   "metadata": {},
   "source": [
    "Experiment 6"
   ]
  },
  {
   "cell_type": "code",
   "execution_count": 6,
   "id": "b4b485a0",
   "metadata": {},
   "outputs": [
    {
     "name": "stdout",
     "output_type": "stream",
     "text": [
      "[(('field', 'it'), 2), (('technology', 'rapidly'), 1), (('rapidly', 'evolving'), 1), (('evolving', 'modern'), 1), (('modern', 'world'), 1)]\n"
     ]
    }
   ],
   "source": [
    "from collections import Counter\n",
    "from nltk import word_tokenize, ngrams\n",
    "from nltk.corpus import stopwords\n",
    "from nltk.stem import WordNetLemmatizer\n",
    "\n",
    "docs = [\n",
    "    \"Technology is rapidly evolving in the modern world. Advancements in computing are transforming industries.\",\n",
    "    \"Artificial intelligence is one of the most exciting fields. It has applications in healthcare, finance, and transportation.\",\n",
    "    \"Natural language processing is a fascinating field. It enables machines to understand human language.\"\n",
    "]\n",
    "tokens = [WordNetLemmatizer().lemmatize(w.lower()) for d in docs for w in word_tokenize(d) if w.isalpha() and w not in stopwords.words('english')]\n",
    "print(Counter(ngrams(tokens, 2)).most_common(5))\n"
   ]
  },
  {
   "cell_type": "markdown",
   "id": "3de0754d",
   "metadata": {},
   "source": [
    "Experiment 7"
   ]
  },
  {
   "cell_type": "code",
   "execution_count": 7,
   "id": "a948c59d",
   "metadata": {},
   "outputs": [
    {
     "name": "stdout",
     "output_type": "stream",
     "text": [
      "{('i', 'love'): 0.25, ('machine', 'learning'): 0.25, ('<s>', 'i'): 0.18181818181818182, ('love', 'machine'): 0.16666666666666666, ('learning', '.'): 0.16666666666666666, ('.', 'machine'): 0.15384615384615385, ('learning', 'is'): 0.16666666666666666, ('is', 'amazing'): 0.18181818181818182, ('amazing', '.'): 0.18181818181818182, ('.', 'i'): 0.15384615384615385, ('love', 'ai'): 0.16666666666666666, ('ai', '.'): 0.18181818181818182, ('.', '</s>'): 0.15384615384615385}\n"
     ]
    }
   ],
   "source": [
    "from collections import defaultdict\n",
    "from nltk import word_tokenize, bigrams, FreqDist\n",
    "\n",
    "def bigram_model(corpus):\n",
    "    tokens = [\"<s>\"] + word_tokenize(corpus.lower()) + [\"</s>\"]\n",
    "    u_freq, b_freq, v_size = FreqDist(tokens), FreqDist(bigrams(tokens)), len(set(tokens))\n",
    "    return {(w1, w2): (b_freq[(w1, w2)] + 1) / (u_freq[w1] + v_size) for w1, w2 in b_freq}\n",
    "\n",
    "corpus = \"I love machine learning. Machine learning is amazing. I love AI.\"\n",
    "print(bigram_model(corpus))\n"
   ]
  },
  {
   "cell_type": "code",
   "execution_count": null,
   "id": "46d4e518",
   "metadata": {},
   "outputs": [],
   "source": []
  },
  {
   "cell_type": "code",
   "execution_count": null,
   "id": "c1084681",
   "metadata": {},
   "outputs": [],
   "source": []
  }
 ],
 "metadata": {
  "kernelspec": {
   "display_name": "Python 3 (ipykernel)",
   "language": "python",
   "name": "python3"
  },
  "language_info": {
   "codemirror_mode": {
    "name": "ipython",
    "version": 3
   },
   "file_extension": ".py",
   "mimetype": "text/x-python",
   "name": "python",
   "nbconvert_exporter": "python",
   "pygments_lexer": "ipython3",
   "version": "3.11.7"
  }
 },
 "nbformat": 4,
 "nbformat_minor": 5
}
