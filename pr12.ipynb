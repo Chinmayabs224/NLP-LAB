{
 "cells": [
  {
   "cell_type": "markdown",
   "metadata": {},
   "source": [
    "<h1 style=\"background: linear-gradient(to right, #49A, #0FB); color: white; padding: 20px;\">Program 12</h1>\n",
    "\n",
    "<ol start=\"12\">\n",
    "    <li>Design a program that identifies nouns and adjectives from a provided sentence, then calculates the overall sentiment score of the extracted adjectives utilizing chunking techniques in natural language processing (NLP).\n",
    "    </li>\n",
    "</ol>"
   ]
  },
  {
   "cell_type": "code",
   "execution_count": 2,
   "metadata": {},
   "outputs": [
    {
     "name": "stdout",
     "output_type": "stream",
     "text": [
      "Nouns and Adjectives: [('beautiful', 'JJ'), ('garden', 'NN'), ('vibrant', 'JJ'), ('flowers', 'NNS'), ('calming', 'NN'), ('atmosphere', 'NN')]\n",
      "Adjectives: ['beautiful', 'vibrant']\n",
      "Overall Sentiment Score: 1.375\n"
     ]
    }
   ],
   "source": [
    "import nltk\n",
    "from nltk import pos_tag, word_tokenize, RegexpParser\n",
    "from nltk.corpus import sentiwordnet as swn\n",
    "\n",
    "# Ensure necessary NLTK data is downloaded\n",
    "nltk.download('punkt', quiet=True)\n",
    "nltk.download('averaged_perceptron_tagger', quiet=True)\n",
    "nltk.download('sentiwordnet', quiet=True)\n",
    "\n",
    "# Input sentence\n",
    "sentence = \"The beautiful garden has vibrant flowers and a calming atmosphere.\"\n",
    "\n",
    "# Tokenize and tag parts of speech\n",
    "tokens = word_tokenize(sentence)\n",
    "tags = pos_tag(tokens)\n",
    "\n",
    "# Define chunk grammar for extracting nouns and adjectives\n",
    "grammar = \"NP: {<JJ>*<NN.*>+}\"\n",
    "chunk_parser = RegexpParser(grammar)\n",
    "tree = chunk_parser.parse(tags)\n",
    "\n",
    "# Extract nouns and adjectives\n",
    "nouns_adjectives = []\n",
    "for subtree in tree:\n",
    "    if isinstance(subtree, nltk.Tree):\n",
    "        for word, pos in subtree.leaves():\n",
    "            if pos.startswith('JJ') or pos.startswith('NN'):\n",
    "                nouns_adjectives.append((word, pos))\n",
    "\n",
    "# Filter adjectives and calculate sentiment score\n",
    "adjectives = [word for word, pos in nouns_adjectives if pos.startswith('JJ')]\n",
    "sentiment_score = 0\n",
    "for adj in adjectives:\n",
    "    synsets = list(swn.senti_synsets(adj, 'a'))\n",
    "    if synsets:\n",
    "        sentiment_score += synsets[0].pos_score() - synsets[0].neg_score()\n",
    "\n",
    "# Print results\n",
    "print(\"Nouns and Adjectives:\", nouns_adjectives)\n",
    "print(\"Adjectives:\", adjectives)\n",
    "print(\"Overall Sentiment Score:\", sentiment_score)\n"
   ]
  }
 ],
 "metadata": {
  "kernelspec": {
   "display_name": "Python 3",
   "language": "python",
   "name": "python3"
  },
  "language_info": {
   "codemirror_mode": {
    "name": "ipython",
    "version": 3
   },
   "file_extension": ".py",
   "mimetype": "text/x-python",
   "name": "python",
   "nbconvert_exporter": "python",
   "pygments_lexer": "ipython3",
   "version": "3.12.3"
  }
 },
 "nbformat": 4,
 "nbformat_minor": 2
}
