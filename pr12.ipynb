{
 "cells": [
  {
   "cell_type": "markdown",
   "metadata": {},
   "source": [
    "<h1 style=\"background: linear-gradient(to right, #49A, #0FB); color: white; padding: 20px;\">Program 12</h1>\n",
    "\n",
    "<ol start=\"12\">\n",
    "    <li>Design a program that identifies nouns and adjectives from a provided sentence, then calculates the overall sentiment score of the extracted adjectives utilizing chunking techniques in natural language processing (NLP).\n",
    "    </li>\n",
    "</ol>"
   ]
  },
  {
   "cell_type": "code",
   "execution_count": 1,
   "metadata": {},
   "outputs": [
    {
     "name": "stdout",
     "output_type": "stream",
     "text": [
      "Nouns: NLP\n",
      "Adjectives: equips good vast textual\n",
      "Sentiment: Sentiment(polarity=0.35, subjectivity=0.8)\n"
     ]
    }
   ],
   "source": [
    "import nltk\n",
    "from textblob import TextBlob\n",
    "\n",
    "text = '''Learning NLP equips individuals good with skills to analyze vast amounts of textual data.'''\n",
    "tokens = nltk.pos_tag(nltk.word_tokenize(text))\n",
    "nouns = \" \".join([word for word, tag in tokens if tag in ['NN', 'NNP']])\n",
    "adjectives = \" \".join([word for word, tag in tokens if tag in ['JJ', 'JJR', 'JJS']])\n",
    "\n",
    "print(f'Nouns: {nouns}')\n",
    "print(f'Adjectives: {adjectives}')\n",
    "print(f'Sentiment: {TextBlob(adjectives).sentiment}')"
   ]
  }
 ],
 "metadata": {
  "kernelspec": {
   "display_name": "Python 3",
   "language": "python",
   "name": "python3"
  },
  "language_info": {
   "codemirror_mode": {
    "name": "ipython",
    "version": 3
   },
   "file_extension": ".py",
   "mimetype": "text/x-python",
   "name": "python",
   "nbconvert_exporter": "python",
   "pygments_lexer": "ipython3",
   "version": "3.12.3"
  }
 },
 "nbformat": 4,
 "nbformat_minor": 2
}
