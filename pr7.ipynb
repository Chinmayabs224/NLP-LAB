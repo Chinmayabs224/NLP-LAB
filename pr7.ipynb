{
 "cells": [
  {
   "cell_type": "markdown",
   "metadata": {
    "vscode": {
     "languageId": "plaintext"
    }
   },
   "source": [
    "<h1 style=\"background: linear-gradient(to right, #49A, #0FB); color: white; padding: 20px;\">program 7</h1>\n",
    "\n",
    "<ol start=\"7\">\n",
    "    <li>Develop a bigram model with add-one/Laplace smoothing to estimate word sequence probabilities in a corpus effectively handling unseen bigrams to improve generalization and avoid zero probability issues.\n",
    "    </li>\n",
    "</ol>"
   ]
  },
  {
   "cell_type": "code",
   "execution_count": 1,
   "metadata": {},
   "outputs": [
    {
     "name": "stdout",
     "output_type": "stream",
     "text": [
      "0.14285714285714285\n"
     ]
    },
    {
     "name": "stderr",
     "output_type": "stream",
     "text": [
      "[nltk_data] Downloading package punkt to\n",
      "[nltk_data]     C:\\Users\\ASUS\\AppData\\Roaming\\nltk_data...\n",
      "[nltk_data]   Package punkt is already up-to-date!\n",
      "[nltk_data] Downloading package punkt_tab to\n",
      "[nltk_data]     C:\\Users\\ASUS\\AppData\\Roaming\\nltk_data...\n",
      "[nltk_data]   Package punkt_tab is already up-to-date!\n"
     ]
    }
   ],
   "source": [
    "import nltk\n",
    "from nltk import bigrams, FreqDist\n",
    "from nltk.util import pad_sequence\n",
    "from collections import Counter\n",
    "\n",
    "# Corpus and preprocessing\n",
    "nltk.download('punkt')\n",
    "nltk.download('punkt_tab')\n",
    "text = \"This is a sample corpus for testing the bigram model.\".lower()\n",
    "tokens = list(nltk.word_tokenize(text))\n",
    "\n",
    "# Calculate the maximum length of sequences for padding\n",
    "max_len = max(len(tokens), 1) # Ensures max_len is at least 1 to avoid errors\n",
    "\n",
    "# Padding and bigrams\n",
    "# Added 'n=max_len' to specify the target length for padding\n",
    "tokens = list(pad_sequence(tokens, n=max_len, pad_left=True, pad_right=True, left_pad_symbol=\"<s>\", right_pad_symbol=\"</s>\"))  \n",
    "bigrams_list = list(bigrams(tokens))\n",
    "\n",
    "# Frequency distributions\n",
    "unigram_counts = Counter(tokens)\n",
    "bigram_counts = Counter(bigrams_list)\n",
    "\n",
    "# Vocabulary size\n",
    "vocab_size = len(unigram_counts)\n",
    "\n",
    "# Bigram probability with Laplace smoothing\n",
    "def bigram_prob(w1, w2):\n",
    "    return (bigram_counts[(w1, w2)] + 1) / (unigram_counts[w1] + vocab_size)\n",
    "\n",
    "# Example probability\n",
    "print(bigram_prob(\"this\", \"is\"))"
   ]
  }
 ],
 "metadata": {
  "kernelspec": {
   "display_name": "Python 3 (ipykernel)",
   "language": "python",
   "name": "python3"
  },
  "language_info": {
   "codemirror_mode": {
    "name": "ipython",
    "version": 3
   },
   "file_extension": ".py",
   "mimetype": "text/x-python",
   "name": "python",
   "nbconvert_exporter": "python",
   "pygments_lexer": "ipython3",
   "version": "3.11.7"
  }
 },
 "nbformat": 4,
 "nbformat_minor": 4
}
