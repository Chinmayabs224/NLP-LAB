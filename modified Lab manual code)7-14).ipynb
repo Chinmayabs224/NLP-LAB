{
 "cells": [
  {
   "cell_type": "markdown",
   "id": "a19ba53d",
   "metadata": {},
   "source": [
    "Experiment 8"
   ]
  },
  {
   "cell_type": "code",
   "execution_count": 2,
   "id": "189446a4-883a-4a8a-b929-a35c00a7fc11",
   "metadata": {},
   "outputs": [
    {
     "name": "stdout",
     "output_type": "stream",
     "text": [
      "True\n"
     ]
    }
   ],
   "source": [
    "def cykParse(w):\n",
    "    R = {\"NP\": [[\"Det\", \"Nom\"]], \"Nom\": [[\"AP\", \"Nom\"], [\"book\"], [\"orange\"], [\"man\"]],\n",
    "         \"AP\": [[\"Adv\", \"A\"], [\"heavy\"], [\"orange\"], [\"tall\"]], \"Det\": [[\"a\"]],\n",
    "         \"Adv\": [[\"very\"], [\"extremely\"]], \"A\": [[\"heavy\"], [\"orange\"], [\"tall\"], [\"muscular\"]]}\n",
    "    T = [[set() for _ in w] for _ in w]\n",
    "    for j, word in enumerate(w):\n",
    "        for lhs, rhs in R.items():\n",
    "            for rule in rhs:\n",
    "                if [word] == rule:\n",
    "                    T[j][j].add(lhs)\n",
    "        for i in range(j, -1, -1):\n",
    "            for k in range(i, j):\n",
    "                for lhs, rhs in R.items():\n",
    "                    for rule in rhs:\n",
    "                        if len(rule) == 2 and rule[0] in T[i][k] and rule[1] in T[k + 1][j]:\n",
    "                            T[i][j].add(lhs)\n",
    "    print(\"True\" if \"NP\" in T[0][-1] else \"False\")\n",
    "\n",
    "# Example usage\n",
    "cykParse(\"a very tall orange man\".split())"
   ]
  },
  {
   "cell_type": "markdown",
   "id": "fe9ba535",
   "metadata": {},
   "source": [
    "9 Minimum Edit Distance"
   ]
  },
  {
   "cell_type": "code",
   "execution_count": 5,
   "id": "2bb48312",
   "metadata": {},
   "outputs": [
    {
     "name": "stdout",
     "output_type": "stream",
     "text": [
      "5\n",
      "2\n"
     ]
    }
   ],
   "source": [
    "def min_edit_distance(source, target):\n",
    "    m, n = len(source), len(target)\n",
    "    dp = [[0] * (n + 1) for _ in range(m + 1)]\n",
    "\n",
    "    for i in range(m + 1):\n",
    "        for j in range(n + 1):\n",
    "            if i == 0:\n",
    "                dp[i][j] = j  # Cost of insertions\n",
    "            elif j == 0:\n",
    "                dp[i][j] = i  # Cost of deletions\n",
    "            else:\n",
    "                cost = 0 if source[i - 1] == target[j - 1] else 1\n",
    "                dp[i][j] = min(dp[i - 1][j] + 1,        # Deletion\n",
    "                               dp[i][j - 1] + 1,        # Insertion\n",
    "                               dp[i - 1][j - 1] + cost) # Substitution\n",
    "\n",
    "    return dp[m][n]\n",
    "\n",
    "# Test inputs\n",
    "print(min_edit_distance(\"intention\", \"execution\")) \n",
    "print(min_edit_distance(\"Piece\", \"Peace\"))          "
   ]
  },
  {
   "cell_type": "markdown",
   "id": "cf59206a",
   "metadata": {},
   "source": [
    "10. One-Hot Encoding"
   ]
  },
  {
   "cell_type": "code",
   "execution_count": 6,
   "id": "c118f9ef",
   "metadata": {},
   "outputs": [
    {
     "name": "stdout",
     "output_type": "stream",
     "text": [
      "One-Hot Encoding: [[0, 0, 0, 0, 0, 0, 1, 0, 0], [0, 0, 0, 0, 1, 0, 0, 0, 0], [0, 0, 0, 0, 0, 0, 0, 1, 0], [0, 0, 0, 0, 0, 0, 0, 0, 1], [0, 0, 0, 1, 0, 0, 0, 0, 0], [1, 0, 0, 0, 0, 0, 0, 0, 0], [0, 0, 0, 0, 0, 0, 0, 1, 0], [0, 0, 0, 0, 0, 1, 0, 0, 0], [0, 1, 0, 0, 0, 0, 0, 0, 0], [0, 0, 0, 0, 1, 0, 0, 0, 0], [0, 0, 0, 0, 0, 0, 0, 1, 0], [0, 0, 1, 0, 0, 0, 0, 0, 0]]\n"
     ]
    }
   ],
   "source": [
    "def one_hot_encode(text):\n",
    "    vocab = list(set(text.split()))\n",
    "    return [[1 if word == w else 0 for w in vocab] for word in text.split()]\n",
    "\n",
    "text = \"cat in the hat dog on the mat bird in the tree\"\n",
    "print(\"One-Hot Encoding:\", one_hot_encode(text))\n"
   ]
  },
  {
   "cell_type": "markdown",
   "id": "0c211931",
   "metadata": {},
   "source": [
    "11. TF-IDF Computation"
   ]
  },
  {
   "cell_type": "code",
   "execution_count": 7,
   "id": "31998712",
   "metadata": {},
   "outputs": [
    {
     "name": "stdout",
     "output_type": "stream",
     "text": [
      "TF-IDF Matrix: [[0.         0.34134049 0.         0.         0.         0.53477584\n",
      "  0.53477584 0.         0.         0.         0.         0.\n",
      "  0.55813643]\n",
      " [0.30368769 0.         0.30368769 0.         0.38518933 0.\n",
      "  0.         0.         0.38518933 0.38518933 0.24586136 0.38518933\n",
      "  0.40201554]\n",
      " [0.         0.33993362 0.         0.53257171 0.         0.\n",
      "  0.         0.41988565 0.         0.         0.33993362 0.\n",
      "  0.55583602]\n",
      " [0.45888182 0.37150438 0.45888182 0.         0.         0.\n",
      "  0.         0.45888182 0.         0.         0.37150438 0.\n",
      "  0.30372918]]\n",
      "Vocabulary: ['brown' 'cat' 'dog' 'fence' 'fox' 'hat' 'in' 'jumped' 'jumps' 'lazy'\n",
      " 'over' 'quick' 'the']\n"
     ]
    }
   ],
   "source": [
    "from sklearn.feature_extraction.text import TfidfVectorizer\n",
    "\n",
    "docs = [\"The cat in the hat\", \"The quick brown fox jumps over the lazy dog\", \n",
    "        \"The cat jumped over the fence\", \"A brown dog jumped over the cat\"]\n",
    "tfidf = TfidfVectorizer()\n",
    "matrix = tfidf.fit_transform(docs).todense()\n",
    "print(\"TF-IDF Matrix:\", matrix)\n",
    "print(\"Vocabulary:\", tfidf.get_feature_names_out())\n"
   ]
  },
  {
   "cell_type": "markdown",
   "id": "e68a9392",
   "metadata": {},
   "source": [
    "Experiment 12: Identify Nouns, Adjectives & Sentiment"
   ]
  },
  {
   "cell_type": "code",
   "execution_count": 8,
   "id": "791e3950",
   "metadata": {},
   "outputs": [
    {
     "name": "stdout",
     "output_type": "stream",
     "text": [
      "Nouns: NLP\n",
      "Adjectives: equips good vast textual\n",
      "Sentiment: Sentiment(polarity=0.35, subjectivity=0.8)\n"
     ]
    }
   ],
   "source": [
    "import nltk\n",
    "from textblob import TextBlob\n",
    "\n",
    "text = '''Learning NLP equips individuals good with skills to analyze vast amounts of textual data.'''\n",
    "tokens = nltk.pos_tag(nltk.word_tokenize(text))\n",
    "nouns = \" \".join([word for word, tag in tokens if tag in ['NN', 'NNP']])\n",
    "adjectives = \" \".join([word for word, tag in tokens if tag in ['JJ', 'JJR', 'JJS']])\n",
    "\n",
    "print(f'Nouns: {nouns}')\n",
    "print(f'Adjectives: {adjectives}')\n",
    "print(f'Sentiment: {TextBlob(adjectives).sentiment}')\n"
   ]
  },
  {
   "cell_type": "markdown",
   "id": "68d34932",
   "metadata": {},
   "source": [
    "Experiment 13: Sentiment Analysis on vaccination_tweets.csv"
   ]
  },
  {
   "cell_type": "code",
   "execution_count": 16,
   "id": "e01ce845",
   "metadata": {},
   "outputs": [
    {
     "data": {
      "image/png": "[encoded data removed]",
      "text/plain": [
       "<Figure size 640x480 with 1 Axes>"
      ]
     },
     "metadata": {},
     "output_type": "display_data"
    }
   ],
   "source": [
    "import pandas as pd\n",
    "from textblob import TextBlob\n",
    "import matplotlib.pyplot as plt\n",
    "import seaborn as sns\n",
    "\n",
    "df = pd.read_csv('vacination_tweets.csv', encoding='latin1')\n",
    "df['cleaned_text'] = df['text'].str.lower().str.replace(r'https?://\\S+|[^a-z\\s]', '', regex=True)\n",
    "df['polarity'] = df['cleaned_text'].apply(lambda x: TextBlob(x).sentiment.polarity)\n",
    "df['sentiment'] = df['polarity'].apply(lambda p: 'Positive' if p > 0 else 'Negative' if p < 0 else 'Neutral')\n",
    "\n",
    "sns.countplot(x='sentiment', data=df)\n",
    "plt.show()\n"
   ]
  },
  {
   "cell_type": "code",
   "execution_count": null,
   "id": "28a6bf1b",
   "metadata": {},
   "outputs": [],
   "source": []
  },
  {
   "cell_type": "code",
   "execution_count": null,
   "id": "71cf51a3",
   "metadata": {},
   "outputs": [],
   "source": []
  },
  {
   "cell_type": "markdown",
   "id": "853f7c7e",
   "metadata": {},
   "source": [
    "Experiment 14: SMS Spam Detection"
   ]
  },
  {
   "cell_type": "code",
   "execution_count": null,
   "id": "99ef3fe4",
   "metadata": {},
   "outputs": [],
   "source": [
    "import pandas as pd\n",
    "from sklearn.feature_extraction.text import CountVectorizer\n",
    "from sklearn.model_selection import train_test_split\n",
    "from sklearn.naive_bayes import MultinomialNB\n",
    "from sklearn.metrics import classification_report, accuracy_score\n",
    "\n",
    "df = pd.read_csv('nlp lab programs/vacination_tweets.csv', usecols=[0, 1], names=['label', 'message'], skiprows=1)\n",
    "df['message'] = df['message'].str.replace(r'[^\\w\\s]', '', regex=True).str.lower()\n",
    "X_train, X_test, y_train, y_test = train_test_split(df['message'], df['label'], test_size=0.2)\n",
    "\n",
    "vectorizer = CountVectorizer(stop_words='english')\n",
    "X_train_vec, X_test_vec = vectorizer.fit_transform(X_train), vectorizer.transform(X_test)\n",
    "\n",
    "model = MultinomialNB().fit(X_train_vec, y_train)\n",
    "y_pred = model.predict(X_test_vec)\n",
    "\n",
    "print(f'Accuracy: {accuracy_score(y_test, y_pred):.2f}')\n",
    "print(classification_report(y_test, y_pred))\n"
   ]
  },
  {
   "cell_type": "code",
   "execution_count": null,
   "id": "4b226008",
   "metadata": {},
   "outputs": [],
   "source": []
  }
 ],
 "metadata": {
  "kernelspec": {
   "display_name": "Python 3 (ipykernel)",
   "language": "python",
   "name": "python3"
  },
  "language_info": {
   "codemirror_mode": {
    "name": "ipython",
    "version": 3
   },
   "file_extension": ".py",
   "mimetype": "text/x-python",
   "name": "python",
   "nbconvert_exporter": "python",
   "pygments_lexer": "ipython3",
   "version": "3.11.7"
  }
 },
 "nbformat": 4,
 "nbformat_minor": 5
}
