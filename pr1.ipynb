{
 "cells": [
  {
   "cell_type": "markdown",
   "id": "cdb2847d-c59e-4822-b44c-943e7ce4bfb9",
   "metadata": {},
   "source": [
    "<h1 style=\"background: linear-gradient(to right, #49A, #0FB); color: white;\">program 1</h1>\n",
    "<ol>\n",
    "    <li style=\"color: black;\">\n",
    "        <ol type=\"a\">\n",
    "            <li>Write a program to Perform Pre-processing (Tokenization, Stop Word Removal and Stemming) of Text</li>\n",
    "            <li>Write a Python program to implement and compare three text-splitting techniques—word tokenize from NLTK, Python's built-in split() method, and splitting using regular expressions (regex)—on a given text input. Observe and analyse the differences in their outputs.</li>\n",
    "        </ol>\n",
    "    </li>\n",
    "</ol>"
   ]
  },
  {
   "cell_type": "code",
   "execution_count": 3,
   "id": "e62460a0-d125-46f3-9045-bb3b3d789db3",
   "metadata": {},
   "outputs": [
    {
     "name": "stdout",
     "output_type": "stream",
     "text": [
      "Requirement already satisfied: nltk in c:\\anacomda\\lib\\site-packages (3.8.1)\n",
      "Requirement already satisfied: click in c:\\anacomda\\lib\\site-packages (from nltk) (8.1.7)\n",
      "Requirement already satisfied: joblib in c:\\anacomda\\lib\\site-packages (from nltk) (1.2.0)\n",
      "Requirement already satisfied: regex>=2021.8.3 in c:\\anacomda\\lib\\site-packages (from nltk) (2023.10.3)\n",
      "Requirement already satisfied: tqdm in c:\\anacomda\\lib\\site-packages (from nltk) (4.65.0)\n",
      "Requirement already satisfied: colorama in c:\\anacomda\\lib\\site-packages (from click->nltk) (0.4.6)\n",
      "Note: you may need to restart the kernel to use updated packages.\n"
     ]
    }
   ],
   "source": [
    "pip install nltk"
   ]
  },
  {
   "cell_type": "code",
   "execution_count": 2,
   "id": "d515f1e3-25ca-4d99-bf40-fd7a3fb40dde",
   "metadata": {},
   "outputs": [
    {
     "name": "stdout",
     "output_type": "stream",
     "text": [
      "Tokens: ['Text', 'preprocessing', 'is', 'crucial', 'for', 'NLP', 'tasks', '.']\n",
      "Filtered: ['Text', 'preprocessing', 'crucial', 'NLP', 'tasks', '.']\n",
      "Stemmed: ['text', 'preprocess', 'crucial', 'nlp', 'task', '.']\n",
      "prepocessed text:  text preprocess crucial nlp task .\n"
     ]
    }
   ],
   "source": [
    "import nltk\n",
    "from nltk.tokenize import word_tokenize\n",
    "from nltk.corpus import stopwords\n",
    "from nltk.stem import PorterStemmer\n",
    "\n",
    "# Download necessary NLTK data files\n",
    "# nltk.download('punkt')  # For word_tokenize\n",
    "# nltk.download('stopwords')  # For stopwords\n",
    "\n",
    "text = \"Text preprocessing is crucial for NLP tasks.\"\n",
    "tokens = word_tokenize(text)\n",
    "stop_words = set(stopwords.words('english'))\n",
    "filtered_tokens = [word for word in tokens if word.lower() not in stop_words]\n",
    "stemmer = PorterStemmer()\n",
    "stemmed_tokens = [stemmer.stem(word) for word in filtered_tokens]\n",
    "preprocessed_text = ' '.join(stemmed_tokens)\n",
    "\n",
    "\n",
    "print(\"Tokens:\", tokens)\n",
    "print(\"Filtered:\", filtered_tokens)\n",
    "print(\"Stemmed:\", stemmed_tokens)\n",
    "print(\"prepocessed text: \",preprocessed_text)"
   ]
  },
  {
   "cell_type": "code",
   "execution_count": 6,
   "id": "3149ecdc-3d1b-4ffe-a556-fefa5d15ec81",
   "metadata": {},
   "outputs": [
    {
     "name": "stdout",
     "output_type": "stream",
     "text": [
      "NLTK: ['Splitting', 'techniques', ':', 'test', ',', 'compare', ',', 'and', 'analyze', 'results', '.']\n",
      "Split: ['Splitting', 'techniques:', 'test,', 'compare,', 'and', 'analyze', 'results.']\n",
      "Regex: ['Splitting', 'techniques', 'test', 'compare', 'and', 'analyze', 'results', '']\n"
     ]
    }
   ],
   "source": [
    "import re\n",
    "from nltk.tokenize import word_tokenize\n",
    "\n",
    "text = \"Splitting techniques: test, compare, and analyze results.\"\n",
    "nltk_tokens = word_tokenize(text)\n",
    "split_tokens = text.split()\n",
    "regex_tokens = re.split(r'\\W+', text)\n",
    "\n",
    "print(\"NLTK:\", nltk_tokens)\n",
    "print(\"Split:\", split_tokens)\n",
    "print(\"Regex:\", regex_tokens)\n"
   ]
  }
 ],
 "metadata": {
  "kernelspec": {
   "display_name": "Python 3",
   "language": "python",
   "name": "python3"
  },
  "language_info": {
   "codemirror_mode": {
    "name": "ipython",
    "version": 3
   },
   "file_extension": ".py",
   "mimetype": "text/x-python",
   "name": "python",
   "nbconvert_exporter": "python",
   "pygments_lexer": "ipython3",
   "version": "3.12.3"
  }
 },
 "nbformat": 4,
 "nbformat_minor": 5
}
