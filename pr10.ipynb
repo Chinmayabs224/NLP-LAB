{
 "cells": [
  {
   "cell_type": "markdown",
   "metadata": {},
   "source": [
    "<h1 style=\"background: linear-gradient(to right, #49A, #0FB); color: white; padding: 20px;\">program 10</h1>\n",
    "\n",
    "<ol start=\"10\">\n",
    "    <li>Write a program that performs one-hot encoding on the words of a given text, generating a unique index for each word. The program should display the one-hot encoded matrix for each word, along with the vocabulary and the word-to-index mapping\n",
    "       \n",
    "</ol>"
   ]
  },
  {
   "cell_type": "code",
   "execution_count": 3,
   "metadata": {},
   "outputs": [
    {
     "name": "stdout",
     "output_type": "stream",
     "text": [
      "Vocabulary: {'cat', 'in', 'mat', 'the', 'dog', 'bird', 'on', 'hat', 'tree'}\n",
      "Word to Index Mapping: {'cat': 0, 'in': 1, 'mat': 2, 'the': 3, 'dog': 4, 'bird': 5, 'on': 6, 'hat': 7, 'tree': 8}\n",
      "One-Hot Encoded Matrix:\n",
      "cat: [1, 0, 0, 0, 0, 0, 0, 0, 0]\n",
      "in: [0, 1, 0, 0, 0, 0, 0, 0, 0]\n",
      "the: [0, 0, 0, 1, 0, 0, 0, 0, 0]\n",
      "hat: [0, 0, 0, 0, 0, 0, 0, 1, 0]\n",
      "dog: [0, 0, 0, 0, 1, 0, 0, 0, 0]\n",
      "on: [0, 0, 0, 0, 0, 0, 1, 0, 0]\n",
      "the: [0, 0, 0, 1, 0, 0, 0, 0, 0]\n",
      "mat: [0, 0, 1, 0, 0, 0, 0, 0, 0]\n",
      "bird: [0, 0, 0, 0, 0, 1, 0, 0, 0]\n",
      "in: [0, 1, 0, 0, 0, 0, 0, 0, 0]\n",
      "the: [0, 0, 0, 1, 0, 0, 0, 0, 0]\n",
      "tree: [0, 0, 0, 0, 0, 0, 0, 0, 1]\n"
     ]
    }
   ],
   "source": [
    "def one_hot_encode(text):\n",
    "    words = text.split()\n",
    "    vocabulary = set(words)\n",
    "    word_to_index = {word: i for i, word in enumerate(vocabulary)}\n",
    "    one_hot_encoded = []\n",
    "    \n",
    "    for word in words:\n",
    "        one_hot_vector = [0] * len(vocabulary)\n",
    "        one_hot_vector[word_to_index[word]] = 1\n",
    "        one_hot_encoded.append(one_hot_vector)\n",
    "    \n",
    "    return one_hot_encoded, word_to_index, vocabulary\n",
    "\n",
    "example_text = \"cat in the hat dog on the mat bird in the tree\"\n",
    "one_hot_encoded, word_to_index, vocabulary = one_hot_encode(example_text)\n",
    "\n",
    "print(\"Vocabulary:\", vocabulary)\n",
    "print(\"Word to Index Mapping:\", word_to_index)\n",
    "print(\"One-Hot Encoded Matrix:\")\n",
    "for word, encoding in zip(example_text.split(), one_hot_encoded):\n",
    "    print(f\"{word}: {encoding}\")"
   ]
  }
 ],
 "metadata": {
  "kernelspec": {
   "display_name": "Python 3",
   "language": "python",
   "name": "python3"
  },
  "language_info": {
   "codemirror_mode": {
    "name": "ipython",
    "version": 3
   },
   "file_extension": ".py",
   "mimetype": "text/x-python",
   "name": "python",
   "nbconvert_exporter": "python",
   "pygments_lexer": "ipython3",
   "version": "3.12.3"
  }
 },
 "nbformat": 4,
 "nbformat_minor": 2
}
