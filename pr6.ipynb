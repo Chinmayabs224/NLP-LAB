{
 "cells": [
  {
   "cell_type": "markdown",
   "id": "f0cc7e1f-d9eb-4936-8b0a-6870371ad3b1",
   "metadata": {},
   "source": [
    "<h1 style=\"background: linear-gradient(to right, #49A, #0FB); color: white; padding: 20px;\">program 6</h1>\n",
    "\n",
    "<ol start=\"6\">\n",
    "    <li>Create a collection of 3 documents. Write a program to find the frequency of bi-grams in this collection. Find the number of bi-grams that occur and display the top 5 most common.\n",
    "        <blockquote>\n",
    "            <p>Doc1: Technology is rapidly evolving in the modern world. Advancements in computing are transforming industries.</p>\n",
    "            <p>Doc2: Artificial intelligence is one of the most exciting fields. It has applications in healthcare, finance, and transportation.</p>\n",
    "            <p>Doc3: Natural language processing is a fascinating field. It enables machines to understand human language.</p>\n",
    "        </blockquote>\n",
    "    </li>\n",
    "</ol>"
   ]
  },
  {
   "cell_type": "code",
   "execution_count": null,
   "id": "9de91a95-df8d-4d72-821b-2c483755388f",
   "metadata": {},
   "outputs": [],
   "source": []
  },
  {
   "cell_type": "code",
   "execution_count": 3,
   "id": "df828d96-b320-4192-b44a-0bf4d80e688e",
   "metadata": {},
   "outputs": [
    {
     "name": "stdout",
     "output_type": "stream",
     "text": [
      "Total Bi-grams: 49\n",
      "Top 5 Bi-grams: [(('.', 'it'), 2), (('technology', 'is'), 1), (('is', 'rapidly'), 1), (('rapidly', 'evolving'), 1), (('evolving', 'in'), 1)]\n"
     ]
    },
    {
     "name": "stderr",
     "output_type": "stream",
     "text": [
      "[nltk_data] Downloading package punkt to\n",
      "[nltk_data]     C:\\Users\\ASUS\\AppData\\Roaming\\nltk_data...\n",
      "[nltk_data]   Package punkt is already up-to-date!\n",
      "[nltk_data] Downloading package punkt_tab to\n",
      "[nltk_data]     C:\\Users\\ASUS\\AppData\\Roaming\\nltk_data...\n",
      "[nltk_data]   Package punkt_tab is already up-to-date!\n"
     ]
    }
   ],
   "source": [
    "from collections import Counter\n",
    "from nltk.util import ngrams\n",
    "import nltk\n",
    "nltk.download('punkt')\n",
    "nltk.download('punkt_tab')\n",
    "\n",
    "# Documents\n",
    "docs = [\n",
    "    \"Technology is rapidly evolving in the modern world. Advancements in computing are transforming industries.\",\n",
    "    \"Artificial intelligence is one of the most exciting fields. It has applications in healthcare, finance, and transportation.\",\n",
    "    \"Natural language processing is a fascinating field. It enables machines to understand human language.\"\n",
    "]\n",
    "\n",
    "# Tokenize and extract bi-grams\n",
    "bigrams = []\n",
    "for doc in docs:\n",
    "    tokens = nltk.word_tokenize(doc.lower())\n",
    "    bigrams.extend(ngrams(tokens, 2))\n",
    "\n",
    "# Count and display top 5\n",
    "freq = Counter(bigrams)\n",
    "print(\"Total Bi-grams:\", len(freq))\n",
    "print(\"Top 5 Bi-grams:\", freq.most_common(5))\n"
   ]
  }
 ],
 "metadata": {
  "kernelspec": {
   "display_name": "Python 3 (ipykernel)",
   "language": "python",
   "name": "python3"
  },
  "language_info": {
   "codemirror_mode": {
    "name": "ipython",
    "version": 3
   },
   "file_extension": ".py",
   "mimetype": "text/x-python",
   "name": "python",
   "nbconvert_exporter": "python",
   "pygments_lexer": "ipython3",
   "version": "3.11.7"
  }
 },
 "nbformat": 4,
 "nbformat_minor": 5
}
