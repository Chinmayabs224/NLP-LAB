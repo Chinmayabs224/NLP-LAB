{
 "cells": [
  {
   "cell_type": "markdown",
   "metadata": {},
   "source": [
    "<h1 style=\"background: linear-gradient(to right, #49A, #0FB); color: white; padding: 20px;\">Program 9</h1>\n",
    "\n",
    "<ol start=\"9\">\n",
    "    <li>Implement the Minimum Edit Distance algorithm using dynamic programming to convert a source string into a target string. The costs for operations (insertion, deletion, substitution) are all set to 1.\n",
    "        <blockquote>\n",
    "            <p><strong>Example Input:</strong></p>\n",
    "            <ul>\n",
    "                <li>Source String: \"intention\"</li>\n",
    "                <li>Target String: \"execution\"</li>\n",
    "            </ul>\n",
    "            <p><strong>Example Output:</strong></p>\n",
    "            <ul>\n",
    "                <li>Minimum Edit Distance: 5</li>\n",
    "                <li>Edit Operations: ['i', 'n', 's', 't', 'e', 'x']</li>\n",
    "            </ul>\n",
    "        </blockquote>\n",
    "    </li>\n",
    "</ol>"
   ]
  },
  {
   "cell_type": "code",
   "execution_count": 1,
   "metadata": {},
   "outputs": [
    {
     "name": "stdout",
     "output_type": "stream",
     "text": [
      "5\n",
      "2\n"
     ]
    }
   ],
   "source": [
    "def min_edit_distance(source, target):\n",
    "    m, n = len(source), len(target)\n",
    "    dp = [[0] * (n + 1) for _ in range(m + 1)]\n",
    "\n",
    "    for i in range(m + 1):\n",
    "        for j in range(n + 1):\n",
    "            if i == 0:\n",
    "                dp[i][j] = j  # Cost of insertions\n",
    "            elif j == 0:\n",
    "                dp[i][j] = i  # Cost of deletions\n",
    "            else:\n",
    "                cost = 0 if source[i - 1] == target[j - 1] else 1\n",
    "                dp[i][j] = min(dp[i - 1][j] + 1,        # Deletion\n",
    "                               dp[i][j - 1] + 1,        # Insertion\n",
    "                               dp[i - 1][j - 1] + cost) # Substitution\n",
    "\n",
    "    return dp[m][n]\n",
    "\n",
    "# Test inputs\n",
    "print(min_edit_distance(\"intention\", \"execution\")) \n",
    "print(min_edit_distance(\"Piece\", \"Peace\"))          \n"
   ]
  }
 ],
 "metadata": {
  "kernelspec": {
   "display_name": "Python 3",
   "language": "python",
   "name": "python3"
  },
  "language_info": {
   "codemirror_mode": {
    "name": "ipython",
    "version": 3
   },
   "file_extension": ".py",
   "mimetype": "text/x-python",
   "name": "python",
   "nbconvert_exporter": "python",
   "pygments_lexer": "ipython3",
   "version": "3.12.3"
  }
 },
 "nbformat": 4,
 "nbformat_minor": 2
}
