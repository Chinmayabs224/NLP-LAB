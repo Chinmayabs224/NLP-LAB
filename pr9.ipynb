{
 "cells": [
  {
   "cell_type": "markdown",
   "metadata": {},
   "source": [
    "<h1 style=\"background: linear-gradient(to right, #49A, #0FB); color: white; padding: 20px;\">Program 9</h1>\n",
    "\n",
    "<ol start=\"9\">\n",
    "    <li>Implement the Minimum Edit Distance algorithm using dynamic programming to convert a source string into a target string. The costs for operations (insertion, deletion, substitution) are all set to 1.\n",
    "        <blockquote>\n",
    "            <p><strong>Example Input:</strong></p>\n",
    "            <ul>\n",
    "                <li>Source String: \"intention\"</li>\n",
    "                <li>Target String: \"execution\"</li>\n",
    "            </ul>\n",
    "            <p><strong>Example Output:</strong></p>\n",
    "            <ul>\n",
    "                <li>Minimum Edit Distance: 5</li>\n",
    "                <li>Edit Operations: ['i', 'n', 's', 't', 'e', 'x']</li>\n",
    "            </ul>\n",
    "        </blockquote>\n",
    "    </li>\n",
    "</ol>"
   ]
  },
  {
   "cell_type": "code",
   "execution_count": 1,
   "metadata": {},
   "outputs": [
    {
     "name": "stdout",
     "output_type": "stream",
     "text": [
      "Minimum edit distance: 5\n",
      "Number of insertions: 0\n",
      "Number of deletions: 0\n",
      "Number of substitutions: 5\n",
      "Total number of operations: 5\n",
      "Actual Operations:\n",
      "1) SUBSTITUTE : i by e\n",
      "2) SUBSTITUTE : n by x\n",
      "3) SUBSTITUTE : t by e\n",
      "4) SUBSTITUTE : e by c\n",
      "5) SUBSTITUTE : n by u\n"
     ]
    }
   ],
   "source": [
    "def min_edit_dist(src, tgt):\n",
    "    m, n = len(src), len(tgt)\n",
    "    dp = [[0] * (n + 1) for _ in range(m + 1)]\n",
    "    for i in range(m + 1): dp[i][0] = i\n",
    "    for j in range(n + 1): dp[0][j] = j\n",
    "    for i in range(1, m + 1):\n",
    "        for j in range(1, n + 1):\n",
    "            dp[i][j] = dp[i - 1][j - 1] if src[i - 1] == tgt[j - 1] else 1 + min(dp[i - 1][j], dp[i][j - 1], dp[i - 1][j - 1])\n",
    "    i, j, ops = m, n, []\n",
    "    ins, dels, subs = 0, 0, 0\n",
    "    while i > 0 or j > 0:\n",
    "        if i > 0 and j > 0 and src[i - 1] == tgt[j - 1]: i, j = i - 1, j - 1\n",
    "        elif i > 0 and j > 0 and dp[i][j] == dp[i - 1][j - 1] + 1: ops.append(f\"SUBSTITUTE : {src[i - 1]} by {tgt[j - 1]}\"); subs += 1; i, j = i - 1, j - 1\n",
    "        elif i > 0 and dp[i][j] == dp[i - 1][j] + 1: ops.append(f\"DELETE : {src[i - 1]}\"); dels += 1; i -= 1\n",
    "        else: ops.append(f\"INSERT : {tgt[j - 1]}\"); ins += 1; j -= 1\n",
    "    return dp[m][n], ins, dels, subs, ops[::-1]\n",
    "\n",
    "src = input(\"Source: \")\n",
    "tgt = input(\"Target: \")\n",
    "dist, ins, dels, subs, ops = min_edit_dist(src, tgt)\n",
    "print(f\"Minimum edit distance: {dist}\")\n",
    "print(f\"Number of insertions: {ins}\")\n",
    "print(f\"Number of deletions: {dels}\")\n",
    "print(f\"Number of substitutions: {subs}\")\n",
    "print(f\"Total number of operations: {ins + dels + subs}\")\n",
    "print(\"Actual Operations:\")\n",
    "for idx, op in enumerate(ops, start=1):\n",
    "    print(f\"{idx}) {op}\")\n"
   ]
  }
 ],
 "metadata": {
  "kernelspec": {
   "display_name": "Python 3",
   "language": "python",
   "name": "python3"
  },
  "language_info": {
   "codemirror_mode": {
    "name": "ipython",
    "version": 3
   },
   "file_extension": ".py",
   "mimetype": "text/x-python",
   "name": "python",
   "nbconvert_exporter": "python",
   "pygments_lexer": "ipython3",
   "version": "3.12.3"
  }
 },
 "nbformat": 4,
 "nbformat_minor": 2
}
