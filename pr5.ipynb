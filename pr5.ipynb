{
 "cells": [
  {
   "cell_type": "markdown",
   "id": "0ab5d68c-32d1-4ea0-842a-a9145f534203",
   "metadata": {},
   "source": [
    "<h1 style=\"background: linear-gradient(to right, #49A, #0FB); color: white; padding: 20px;\">program 5 </h1>\n",
    "\n",
    "<ol start=\"5\">\n",
    "    <li>\n",
    "        <ol type=\"a\">\n",
    "            <li>Write a program to analyze the different types of Stemmers and Lemmatizers.</li>\n",
    "            <li>Write a Python program to extract syntactic dependency information from a text using the SpaCy library. \n",
    "                <blockquote>\n",
    "                    Text: The quick brown fox jumps over the lazy dog.\n",
    "                </blockquote>\n",
    "            </li>\n",
    "        </ol>\n",
    "    </li>\n",
    "</ol>"
   ]
  },
  {
   "cell_type": "code",
   "execution_count": 4,
   "id": "9546cdad-9ee6-4bf3-991e-4b0df8fbb047",
   "metadata": {},
   "outputs": [
    {
     "name": "stdout",
     "output_type": "stream",
     "text": [
      "{'PorterStemmer': ['the', 'quick', 'brown', 'fox', 'jump', 'over', 'the', 'lazi', 'dog.'], 'LancasterStemmer': ['the', 'quick', 'brown', 'fox', 'jump', 'ov', 'the', 'lazy', 'dog.'], 'SnowballStemmer': ['the', 'quick', 'brown', 'fox', 'jump', 'over', 'the', 'lazi', 'dog.'], 'Lemmatizer': ['the', 'quick', 'brown', 'fox', 'jump', 'over', 'the', 'lazy', 'dog.']}\n"
     ]
    },
    {
     "name": "stderr",
     "output_type": "stream",
     "text": [
      "[nltk_data] Downloading package wordnet to\n",
      "[nltk_data]     C:\\Users\\ASUS\\AppData\\Roaming\\nltk_data...\n",
      "[nltk_data]   Package wordnet is already up-to-date!\n"
     ]
    }
   ],
   "source": [
    "from nltk.stem import PorterStemmer, LancasterStemmer, SnowballStemmer, WordNetLemmatizer\n",
    "from nltk.corpus import wordnet\n",
    "import nltk\n",
    "nltk.download('wordnet')\n",
    "\n",
    "text = \"The quick brown fox jumps over the lazy dog.\".split()\n",
    "\n",
    "# Initialize stemmers and lemmatizer\n",
    "ps, ls, ss = PorterStemmer(), LancasterStemmer(), SnowballStemmer(\"english\")\n",
    "lemmatizer = WordNetLemmatizer()\n",
    "\n",
    "# Analyze\n",
    "results = { \n",
    "    \"PorterStemmer\": [ps.stem(word) for word in text],\n",
    "    \"LancasterStemmer\": [ls.stem(word) for word in text],\n",
    "    \"SnowballStemmer\": [ss.stem(word) for word in text],\n",
    "    \"Lemmatizer\": [lemmatizer.lemmatize(word.lower(), wordnet.VERB) for word in text]\n",
    "}\n",
    "print(results)\n"
   ]
  },
  {
   "cell_type": "code",
   "execution_count": null,
   "id": "fdc8ba8a-3e85-4607-baf5-ae8a56c7fa1b",
   "metadata": {},
   "outputs": [],
   "source": [
    "import spacy\n",
    "nlp = spacy.load(\"en_core_web_sm\")\n",
    "\n",
    "text = \"The quick brown fox jumps over the lazy dog.\"\n",
    "doc = nlp(text)\n",
    "\n",
    "for token in doc:\n",
    "    print(f\"{token.text}: {token.dep_} -> {token.head.text}\")\n"
   ]
  },
  {
   "cell_type": "code",
   "execution_count": null,
   "id": "08482e65-778f-4a2f-8c56-c2dabe145223",
   "metadata": {},
   "outputs": [],
   "source": []
  }
 ],
 "metadata": {
  "kernelspec": {
   "display_name": "Python 3",
   "language": "python",
   "name": "python3"
  },
  "language_info": {
   "codemirror_mode": {
    "name": "ipython",
    "version": 3
   },
   "file_extension": ".py",
   "mimetype": "text/x-python",
   "name": "python",
   "nbconvert_exporter": "python",
   "pygments_lexer": "ipython3",
   "version": "3.12.3"
  }
 },
 "nbformat": 4,
 "nbformat_minor": 5
}
