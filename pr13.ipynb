{
 "cells": [
  {
   "cell_type": "markdown",
   "metadata": {},
   "source": [
    "<h1 style=\"background: linear-gradient(to right, #49A, #0FB); color: white; padding: 20px;\">Program 13</h1>\n",
    "\n",
    "<ol start=\"13\">\n",
    "    <li>Create a program to carry out a case study on sentiment analysis utilizing Natural Language Processing (NLP). Implement this analysis on a dataset contained in a CSV file named \"vaccination_tweets.csv\". This dataset consists of tweets related to vaccinations.     \n",
    "    </li>\n",
    "</ol>"
   ]
  },
  {
   "cell_type": "code",
   "execution_count": 4,
   "metadata": {},
   "outputs": [
    {
     "name": "stdout",
     "output_type": "stream",
     "text": [
      "Collecting textblob\n",
      "  Downloading textblob-0.18.0.post0-py3-none-any.whl.metadata (4.5 kB)\n",
      "Requirement already satisfied: nltk>=3.8 in c:\\users\\asus\\appdata\\local\\programs\\python\\python312\\lib\\site-packages (from textblob) (3.9.1)\n",
      "Requirement already satisfied: click in c:\\users\\asus\\appdata\\local\\programs\\python\\python312\\lib\\site-packages (from nltk>=3.8->textblob) (8.1.7)\n",
      "Requirement already satisfied: joblib in c:\\users\\asus\\appdata\\local\\programs\\python\\python312\\lib\\site-packages (from nltk>=3.8->textblob) (1.4.2)\n",
      "Requirement already satisfied: regex>=2021.8.3 in c:\\users\\asus\\appdata\\local\\programs\\python\\python312\\lib\\site-packages (from nltk>=3.8->textblob) (2024.9.11)\n",
      "Requirement already satisfied: tqdm in c:\\users\\asus\\appdata\\local\\programs\\python\\python312\\lib\\site-packages (from nltk>=3.8->textblob) (4.66.6)\n",
      "Requirement already satisfied: colorama in c:\\users\\asus\\appdata\\local\\programs\\python\\python312\\lib\\site-packages (from click->nltk>=3.8->textblob) (0.4.6)\n",
      "Downloading textblob-0.18.0.post0-py3-none-any.whl (626 kB)\n",
      "   ---------------------------------------- 0.0/626.3 kB ? eta -:--:--\n",
      "   ---------------------------------------- 0.0/626.3 kB ? eta -:--:--\n",
      "   ---------------------------------------- 0.0/626.3 kB ? eta -:--:--\n",
      "   ---------------------------------------- 0.0/626.3 kB ? eta -:--:--\n",
      "   ---------------- ----------------------- 262.1/626.3 kB ? eta -:--:--\n",
      "   ---------------- ----------------------- 262.1/626.3 kB ? eta -:--:--\n",
      "   ---------------- ----------------------- 262.1/626.3 kB ? eta -:--:--\n",
      "   ------------------------------- ------ 524.3/626.3 kB 372.9 kB/s eta 0:00:01\n",
      "   ------------------------------- ------ 524.3/626.3 kB 372.9 kB/s eta 0:00:01\n",
      "   -------------------------------------- 626.3/626.3 kB 328.1 kB/s eta 0:00:00\n",
      "Installing collected packages: textblob\n",
      "Successfully installed textblob-0.18.0.post0\n",
      "Note: you may need to restart the kernel to use updated packages.\n"
     ]
    },
    {
     "name": "stderr",
     "output_type": "stream",
     "text": [
      "\n",
      "[notice] A new release of pip is available: 24.2 -> 24.3.1\n",
      "[notice] To update, run: python.exe -m pip install --upgrade pip\n"
     ]
    }
   ],
   "source": [
    "pip install textblob"
   ]
  },
  {
   "cell_type": "code",
   "execution_count": 1,
   "metadata": {},
   "outputs": [
    {
     "name": "stdout",
     "output_type": "stream",
     "text": [
      "Sentiment analysis complete. Results saved to 'vaccination_tweets_with_sentiment.csv'.\n"
     ]
    }
   ],
   "source": [
    "import pandas as pd\n",
    "from textblob import TextBlob\n",
    "\n",
    "# Load the dataset\n",
    "data = pd.read_csv('vacination_tweets.csv',encoding='latin1')\n",
    "\n",
    "\n",
    "# Ensure the 'text' column exists and perform sentiment analysis\n",
    "if 'text' in data.columns:\n",
    "    data['sentiment'] = data['text'].apply(lambda x: TextBlob(x).sentiment.polarity)\n",
    "\n",
    "# Categorize sentiment as positive, negative, or neutral\n",
    "data['sentiment_category'] = data['sentiment'].apply(lambda x: 'positive' if x > 0 else 'negative' if x < 0 else 'neutral')\n",
    "\n",
    "# Save the results to a new CSV\n",
    "data.to_csv('new_vaccination_tweets.csv', index=False)\n",
    "\n",
    "print(\"Sentiment analysis complete. Results saved to 'vaccination_tweets_with_sentiment.csv'.\")\n"
   ]
  },
  {
   "cell_type": "code",
   "execution_count": 3,
   "metadata": {},
   "outputs": [
    {
     "name": "stdout",
     "output_type": "stream",
     "text": [
      "             id                                          user_name  \\\n",
      "0  1.340540e+18                                         Rachel Roh   \n",
      "1  1.338160e+18                                        Albert Fong   \n",
      "2  1.337860e+18  eliÂ?ÂÂ??Â?ÂÂ?ÂªÂ?ÂÂ??Â?ÂÂ??Â?ÂÂ...   \n",
      "3  1.337860e+18                                      Charles Adler   \n",
      "4  1.337850e+18                               Citizen News Channel   \n",
      "\n",
      "               user_location  \\\n",
      "0  La Crescenta-Montrose, CA   \n",
      "1          San Francisco, CA   \n",
      "2                   Your Bed   \n",
      "3     Vancouver, BC - Canada   \n",
      "4                        NaN   \n",
      "\n",
      "                                    user_description      user_created  \\\n",
      "0  Aggregator of Asian American news; scanning di...  08-04-2009 17:52   \n",
      "1  Marketing dude, tech geek, heavy metal & '80s ...  21-09-2009 15:27   \n",
      "2                   heil, hydra Â?ÂÂ??Â?Â«ÂÂ¨Â«  25-06-2020 23:30   \n",
      "3  Hosting \"CharlesAdlerTonight\" Global News Radi...  10-09-2008 11:28   \n",
      "4  Citizen News Channel bringing you an alternati...  23-04-2020 17:58   \n",
      "\n",
      "   user_followers  user_friends  user_favourites  user_verified  \\\n",
      "0             405          1692             3247          False   \n",
      "1             834           666              178          False   \n",
      "2              10            88              155          False   \n",
      "3           49165          3933            21853           True   \n",
      "4             152           580             1473          False   \n",
      "\n",
      "               date                                               text  \\\n",
      "0  20-12-2020 06:06  Same folks said daikon paste could treat a cyt...   \n",
      "1  13-12-2020 16:27  While the world has been on the wrong side of ...   \n",
      "2  12-12-2020 20:33  #coronavirus #SputnikV #AstraZeneca #PfizerBio...   \n",
      "3  12-12-2020 20:23  Facts are immutable, Senator, even when you're...   \n",
      "4  12-12-2020 20:17  Explain to me again why we need a vaccine @Bor...   \n",
      "\n",
      "                                            hashtags               source  \\\n",
      "0                                 ['PfizerBioNTech']  Twitter for Android   \n",
      "1                                                NaN      Twitter Web App   \n",
      "2  ['coronavirus', 'SputnikV', 'AstraZeneca', 'Pf...  Twitter for Android   \n",
      "3                                                NaN      Twitter Web App   \n",
      "4     ['whereareallthesickpeople', 'PfizerBioNTech']   Twitter for iPhone   \n",
      "\n",
      "   retweets  favorites  is_retweet  sentiment sentiment_category  \n",
      "0         0          0       False       0.00            neutral  \n",
      "1         1          1       False      -0.50           negative  \n",
      "2         0          0       False       0.00            neutral  \n",
      "3       446       2129       False      -0.05           negative  \n",
      "4         0          0       False       0.00            neutral  \n"
     ]
    }
   ],
   "source": [
    "data = pd.read_csv('new_vaccination_tweets.csv',encoding='latin1')\n",
    "print(data.head())"
   ]
  }
 ],
 "metadata": {
  "kernelspec": {
   "display_name": "Python 3",
   "language": "python",
   "name": "python3"
  },
  "language_info": {
   "codemirror_mode": {
    "name": "ipython",
    "version": 3
   },
   "file_extension": ".py",
   "mimetype": "text/x-python",
   "name": "python",
   "nbconvert_exporter": "python",
   "pygments_lexer": "ipython3",
   "version": "3.12.3"
  }
 },
 "nbformat": 4,
 "nbformat_minor": 2
}
