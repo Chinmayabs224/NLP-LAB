{
 "cells": [
  {
   "cell_type": "markdown",
   "metadata": {},
   "source": [
    "<h1 style=\"background: linear-gradient(to right, #49A, #0FB); color: white; padding: 20px;\">program 8</h1>\n",
    "\n",
    "<ol start=\"8\">\n",
    "    <li>Write a program to decide whether a given string belongs to the language of grammar or not using Cocke-Younger-Kasami Algorithm.\n",
    "       \n",
    "</ol>"
   ]
  },
  {
   "cell_type": "code",
   "execution_count": 1,
   "metadata": {},
   "outputs": [
    {
     "name": "stdout",
     "output_type": "stream",
     "text": [
      "True\n"
     ]
    }
   ],
   "source": [
    "import nltk\n",
    "\n",
    "def cyk_algorithm(grammar, string):\n",
    "    productions = grammar.productions()\n",
    "    n = len(string)\n",
    "    table = [[set() for _ in range(n)] for _ in range(n)]\n",
    "\n",
    "    # Populate table for single terminals\n",
    "    for i, char in enumerate(string):\n",
    "        for prod in productions:\n",
    "            if len(prod.rhs()) == 1 and prod.rhs()[0] == char:\n",
    "                table[i][i].add(prod.lhs())\n",
    "\n",
    "    # Fill table for substrings of increasing length\n",
    "    for l in range(2, n + 1):\n",
    "        for i in range(n - l + 1):\n",
    "            j = i + l - 1\n",
    "            for k in range(i, j):\n",
    "                for prod in productions:\n",
    "                    if len(prod.rhs()) == 2:\n",
    "                        B, C = prod.rhs()\n",
    "                        if B in table[i][k] and C in table[k + 1][j]:\n",
    "                            table[i][j].add(prod.lhs())\n",
    "\n",
    "    # Check if the start symbol derives the entire string\n",
    "    return grammar.start() in table[0][n - 1]\n",
    "\n",
    "# Define grammar in NLTK format\n",
    "grammar = nltk.CFG.fromstring(\"\"\"\n",
    "    S -> A B | B C\n",
    "    A -> B A | 'a'\n",
    "    B -> C C | 'b'\n",
    "    C -> A B | 'a'\n",
    "\"\"\")\n",
    "\n",
    "# Test string\n",
    "string = \"baaba\"\n",
    "print(cyk_algorithm(grammar, string))\n"
   ]
  }
 ],
 "metadata": {
  "kernelspec": {
   "display_name": "Python 3",
   "language": "python",
   "name": "python3"
  },
  "language_info": {
   "codemirror_mode": {
    "name": "ipython",
    "version": 3
   },
   "file_extension": ".py",
   "mimetype": "text/x-python",
   "name": "python",
   "nbconvert_exporter": "python",
   "pygments_lexer": "ipython3",
   "version": "3.12.3"
  }
 },
 "nbformat": 4,
 "nbformat_minor": 2
}
